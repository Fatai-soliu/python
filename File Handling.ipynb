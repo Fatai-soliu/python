{
 "cells": [
  {
   "cell_type": "code",
   "execution_count": 1,
   "id": "d221a202",
   "metadata": {},
   "outputs": [],
   "source": [
    "#Creating a text file\n",
    "\n",
    "path = \"soliu.txt\"\n",
    "\n",
    "file = open(path, \"w+\")"
   ]
  },
  {
   "cell_type": "code",
   "execution_count": 2,
   "id": "9273f311",
   "metadata": {},
   "outputs": [],
   "source": [
    "#File modes ( r = read ; w = write ; x = exclusive creation, ; a = appending ; b = binding ; w+ = create a text file)"
   ]
  },
  {
   "cell_type": "code",
   "execution_count": 6,
   "id": "725938a5",
   "metadata": {},
   "outputs": [
    {
     "data": {
      "text/plain": [
       "11"
      ]
     },
     "execution_count": 6,
     "metadata": {},
     "output_type": "execute_result"
    }
   ],
   "source": [
    "# create a csv file\n",
    "\n",
    "path = \"soliu.csv\"\n",
    "\n",
    "file = open(path, \"w\")\n",
    "\n",
    "# write to file\n",
    "\n",
    "file.write(\"Fatai Soliu\")"
   ]
  },
  {
   "cell_type": "code",
   "execution_count": 7,
   "id": "86fff958",
   "metadata": {},
   "outputs": [],
   "source": [
    "# Read a file\n",
    "\n",
    "path = \"soliu.txt\"\n",
    "\n",
    "file = open(path, \"r\")"
   ]
  },
  {
   "cell_type": "code",
   "execution_count": 1,
   "id": "737f6a80",
   "metadata": {},
   "outputs": [],
   "source": [
    "#import os module\n",
    "\n",
    "import os\n",
    "\n",
    "os.rename(\"soliu.txt\",\"Fatai.txt\")"
   ]
  },
  {
   "cell_type": "code",
   "execution_count": 2,
   "id": "be8bb0bb",
   "metadata": {},
   "outputs": [
    {
     "data": {
      "text/plain": [
       "10"
      ]
     },
     "execution_count": 2,
     "metadata": {},
     "output_type": "execute_result"
    }
   ],
   "source": [
    "# Writiing to an exisiting text file\n",
    "\n",
    "path = \"Fatai.txt\"\n",
    "\n",
    "file = open(path, \"w\")\n",
    "\n",
    "file.write(\"Fatai Adeola\")\n",
    "file.write(\"Learn alot\")"
   ]
  },
  {
   "cell_type": "code",
   "execution_count": 1,
   "id": "924b30e0",
   "metadata": {},
   "outputs": [],
   "source": [
    "#Saving data to a file\n",
    "\n",
    "path = \"Fatai.txt\"\n",
    "\n",
    "file = open(path, \"w\")\n",
    "file.write(\"Fatai soliu makes cool analysis\")\n",
    "file.close()"
   ]
  },
  {
   "cell_type": "code",
   "execution_count": 2,
   "id": "77b4d5e1",
   "metadata": {},
   "outputs": [],
   "source": [
    "#Appende mode: Used to attach data to an existing text file instead of overwriting the data\n",
    "\n",
    "path = \"Fatai.txt\"\n",
    "\n",
    "file = open(path, \"a\")\n",
    "\n",
    "file.write(\" Fatai is a data analyst\")\n",
    "file.close()"
   ]
  },
  {
   "cell_type": "code",
   "execution_count": 3,
   "id": "b8f6b22b",
   "metadata": {},
   "outputs": [
    {
     "data": {
      "text/plain": [
       "<_io.TextIOWrapper name='Adeola.txt' mode='w+' encoding='cp1252'>"
      ]
     },
     "execution_count": 3,
     "metadata": {},
     "output_type": "execute_result"
    }
   ],
   "source": [
    "# create a new text file\n",
    "\n",
    "path = \"Adeola.txt\"\n",
    "\n",
    "open(path, \"w+\")"
   ]
  },
  {
   "cell_type": "code",
   "execution_count": 4,
   "id": "0d536142",
   "metadata": {},
   "outputs": [],
   "source": [
    "path = \"Adeola.txt\"\n",
    "\n",
    "path1 = \"Fatai.txt\"\n",
    "\n",
    "x = open(path1, \"r\")\n",
    "data = x.read()\n",
    "x.close()\n",
    "\n",
    "\n",
    "y = open(path, \"a\")\n",
    "y.write(data)\n",
    "y.close()"
   ]
  },
  {
   "cell_type": "code",
   "execution_count": null,
   "id": "02403643",
   "metadata": {},
   "outputs": [],
   "source": []
  }
 ],
 "metadata": {
  "kernelspec": {
   "display_name": "Python 3 (ipykernel)",
   "language": "python",
   "name": "python3"
  },
  "language_info": {
   "codemirror_mode": {
    "name": "ipython",
    "version": 3
   },
   "file_extension": ".py",
   "mimetype": "text/x-python",
   "name": "python",
   "nbconvert_exporter": "python",
   "pygments_lexer": "ipython3",
   "version": "3.11.5"
  }
 },
 "nbformat": 4,
 "nbformat_minor": 5
}
